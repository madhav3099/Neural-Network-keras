{
 "cells": [
  {
   "cell_type": "code",
   "execution_count": 1,
   "metadata": {},
   "outputs": [],
   "source": [
    "import numpy as np\n",
    "import pandas as pd\n",
    "import matplotlib.pyplot as plt"
   ]
  },
  {
   "cell_type": "code",
   "execution_count": 2,
   "metadata": {},
   "outputs": [
    {
     "name": "stderr",
     "output_type": "stream",
     "text": [
      "Using TensorFlow backend.\n",
      "C:\\Users\\SR\\anaconda3\\lib\\site-packages\\tensorflow\\python\\framework\\dtypes.py:516: FutureWarning: Passing (type, 1) or '1type' as a synonym of type is deprecated; in a future version of numpy, it will be understood as (type, (1,)) / '(1,)type'.\n",
      "  _np_qint8 = np.dtype([(\"qint8\", np.int8, 1)])\n",
      "C:\\Users\\SR\\anaconda3\\lib\\site-packages\\tensorflow\\python\\framework\\dtypes.py:517: FutureWarning: Passing (type, 1) or '1type' as a synonym of type is deprecated; in a future version of numpy, it will be understood as (type, (1,)) / '(1,)type'.\n",
      "  _np_quint8 = np.dtype([(\"quint8\", np.uint8, 1)])\n",
      "C:\\Users\\SR\\anaconda3\\lib\\site-packages\\tensorflow\\python\\framework\\dtypes.py:518: FutureWarning: Passing (type, 1) or '1type' as a synonym of type is deprecated; in a future version of numpy, it will be understood as (type, (1,)) / '(1,)type'.\n",
      "  _np_qint16 = np.dtype([(\"qint16\", np.int16, 1)])\n",
      "C:\\Users\\SR\\anaconda3\\lib\\site-packages\\tensorflow\\python\\framework\\dtypes.py:519: FutureWarning: Passing (type, 1) or '1type' as a synonym of type is deprecated; in a future version of numpy, it will be understood as (type, (1,)) / '(1,)type'.\n",
      "  _np_quint16 = np.dtype([(\"quint16\", np.uint16, 1)])\n",
      "C:\\Users\\SR\\anaconda3\\lib\\site-packages\\tensorflow\\python\\framework\\dtypes.py:520: FutureWarning: Passing (type, 1) or '1type' as a synonym of type is deprecated; in a future version of numpy, it will be understood as (type, (1,)) / '(1,)type'.\n",
      "  _np_qint32 = np.dtype([(\"qint32\", np.int32, 1)])\n",
      "C:\\Users\\SR\\anaconda3\\lib\\site-packages\\tensorflow\\python\\framework\\dtypes.py:525: FutureWarning: Passing (type, 1) or '1type' as a synonym of type is deprecated; in a future version of numpy, it will be understood as (type, (1,)) / '(1,)type'.\n",
      "  np_resource = np.dtype([(\"resource\", np.ubyte, 1)])\n",
      "C:\\Users\\SR\\anaconda3\\lib\\site-packages\\tensorboard\\compat\\tensorflow_stub\\dtypes.py:541: FutureWarning: Passing (type, 1) or '1type' as a synonym of type is deprecated; in a future version of numpy, it will be understood as (type, (1,)) / '(1,)type'.\n",
      "  _np_qint8 = np.dtype([(\"qint8\", np.int8, 1)])\n",
      "C:\\Users\\SR\\anaconda3\\lib\\site-packages\\tensorboard\\compat\\tensorflow_stub\\dtypes.py:542: FutureWarning: Passing (type, 1) or '1type' as a synonym of type is deprecated; in a future version of numpy, it will be understood as (type, (1,)) / '(1,)type'.\n",
      "  _np_quint8 = np.dtype([(\"quint8\", np.uint8, 1)])\n",
      "C:\\Users\\SR\\anaconda3\\lib\\site-packages\\tensorboard\\compat\\tensorflow_stub\\dtypes.py:543: FutureWarning: Passing (type, 1) or '1type' as a synonym of type is deprecated; in a future version of numpy, it will be understood as (type, (1,)) / '(1,)type'.\n",
      "  _np_qint16 = np.dtype([(\"qint16\", np.int16, 1)])\n",
      "C:\\Users\\SR\\anaconda3\\lib\\site-packages\\tensorboard\\compat\\tensorflow_stub\\dtypes.py:544: FutureWarning: Passing (type, 1) or '1type' as a synonym of type is deprecated; in a future version of numpy, it will be understood as (type, (1,)) / '(1,)type'.\n",
      "  _np_quint16 = np.dtype([(\"quint16\", np.uint16, 1)])\n",
      "C:\\Users\\SR\\anaconda3\\lib\\site-packages\\tensorboard\\compat\\tensorflow_stub\\dtypes.py:545: FutureWarning: Passing (type, 1) or '1type' as a synonym of type is deprecated; in a future version of numpy, it will be understood as (type, (1,)) / '(1,)type'.\n",
      "  _np_qint32 = np.dtype([(\"qint32\", np.int32, 1)])\n",
      "C:\\Users\\SR\\anaconda3\\lib\\site-packages\\tensorboard\\compat\\tensorflow_stub\\dtypes.py:550: FutureWarning: Passing (type, 1) or '1type' as a synonym of type is deprecated; in a future version of numpy, it will be understood as (type, (1,)) / '(1,)type'.\n",
      "  np_resource = np.dtype([(\"resource\", np.ubyte, 1)])\n"
     ]
    }
   ],
   "source": [
    "from keras.layers import Dense,Activation\n",
    "from keras.models import Sequential\n",
    "from keras.utils import np_utils"
   ]
  },
  {
   "cell_type": "code",
   "execution_count": 3,
   "metadata": {},
   "outputs": [],
   "source": [
    "from keras.datasets import boston_housing"
   ]
  },
  {
   "cell_type": "code",
   "execution_count": 4,
   "metadata": {},
   "outputs": [
    {
     "name": "stdout",
     "output_type": "stream",
     "text": [
      "Downloading data from https://s3.amazonaws.com/keras-datasets/boston_housing.npz\n",
      "57344/57026 [==============================] - 2s 32us/step\n"
     ]
    }
   ],
   "source": [
    "(x_train,y_train),(x_test,y_test) = boston_housing.load_data()"
   ]
  },
  {
   "cell_type": "code",
   "execution_count": 5,
   "metadata": {},
   "outputs": [
    {
     "data": {
      "text/plain": [
       "((404, 13), (102, 13))"
      ]
     },
     "execution_count": 5,
     "metadata": {},
     "output_type": "execute_result"
    }
   ],
   "source": [
    "x_train.shape , x_test.shape"
   ]
  },
  {
   "cell_type": "code",
   "execution_count": null,
   "metadata": {},
   "outputs": [],
   "source": []
  },
  {
   "cell_type": "code",
   "execution_count": 7,
   "metadata": {},
   "outputs": [
    {
     "name": "stdout",
     "output_type": "stream",
     "text": [
      "Model: \"sequential_2\"\n",
      "_________________________________________________________________\n",
      "Layer (type)                 Output Shape              Param #   \n",
      "=================================================================\n",
      "dense_6 (Dense)              (None, 100)               1400      \n",
      "_________________________________________________________________\n",
      "activation_6 (Activation)    (None, 100)               0         \n",
      "_________________________________________________________________\n",
      "dense_7 (Dense)              (None, 100)               10100     \n",
      "_________________________________________________________________\n",
      "activation_7 (Activation)    (None, 100)               0         \n",
      "_________________________________________________________________\n",
      "dense_8 (Dense)              (None, 100)               10100     \n",
      "_________________________________________________________________\n",
      "activation_8 (Activation)    (None, 100)               0         \n",
      "_________________________________________________________________\n",
      "dense_9 (Dense)              (None, 100)               10100     \n",
      "_________________________________________________________________\n",
      "activation_9 (Activation)    (None, 100)               0         \n",
      "_________________________________________________________________\n",
      "dense_10 (Dense)             (None, 1)                 101       \n",
      "_________________________________________________________________\n",
      "activation_10 (Activation)   (None, 1)                 0         \n",
      "=================================================================\n",
      "Total params: 31,801\n",
      "Trainable params: 31,801\n",
      "Non-trainable params: 0\n",
      "_________________________________________________________________\n"
     ]
    }
   ],
   "source": [
    "model = Sequential()\n",
    "model.add(Dense(100 ,input_shape = (13,)))\n",
    "model.add(Activation('relu'))\n",
    "\n",
    "model.add(Dense(100))\n",
    "model.add(Activation('relu'))\n",
    "\n",
    "model.add(Dense(100))\n",
    "model.add(Activation('relu'))\n",
    "\n",
    "model.add(Dense(100))\n",
    "model.add(Activation('relu'))\n",
    "\n",
    "model.add(Dense(1))\n",
    "model.add(Activation('linear'))\n",
    "\n",
    "model.summary()"
   ]
  },
  {
   "cell_type": "code",
   "execution_count": null,
   "metadata": {},
   "outputs": [],
   "source": []
  },
  {
   "cell_type": "code",
   "execution_count": 8,
   "metadata": {},
   "outputs": [],
   "source": [
    "model.compile(optimizer='adam',loss='mean_squared_error',metrics=['mse'])"
   ]
  },
  {
   "cell_type": "code",
   "execution_count": 9,
   "metadata": {},
   "outputs": [
    {
     "name": "stdout",
     "output_type": "stream",
     "text": [
      "WARNING:tensorflow:From C:\\Users\\SR\\anaconda3\\lib\\site-packages\\keras\\backend\\tensorflow_backend.py:422: The name tf.global_variables is deprecated. Please use tf.compat.v1.global_variables instead.\n",
      "\n",
      "Train on 404 samples, validate on 102 samples\n",
      "Epoch 1/50\n",
      " - 0s - loss: 158.7566 - mse: 158.7566 - val_loss: 96.8750 - val_mse: 96.8750\n",
      "Epoch 2/50\n",
      " - 0s - loss: 78.7627 - mse: 78.7627 - val_loss: 67.8337 - val_mse: 67.8337\n",
      "Epoch 3/50\n",
      " - 0s - loss: 61.6964 - mse: 61.6964 - val_loss: 59.0371 - val_mse: 59.0371\n",
      "Epoch 4/50\n",
      " - 0s - loss: 64.4227 - mse: 64.4227 - val_loss: 82.3205 - val_mse: 82.3205\n",
      "Epoch 5/50\n",
      " - 0s - loss: 60.6231 - mse: 60.6231 - val_loss: 61.7076 - val_mse: 61.7076\n",
      "Epoch 6/50\n",
      " - 0s - loss: 57.1920 - mse: 57.1920 - val_loss: 59.6530 - val_mse: 59.6530\n",
      "Epoch 7/50\n",
      " - 0s - loss: 55.0058 - mse: 55.0058 - val_loss: 55.2403 - val_mse: 55.2403\n",
      "Epoch 8/50\n",
      " - 0s - loss: 55.1884 - mse: 55.1884 - val_loss: 64.6657 - val_mse: 64.6657\n",
      "Epoch 9/50\n",
      " - 0s - loss: 52.7629 - mse: 52.7629 - val_loss: 55.4116 - val_mse: 55.4116\n",
      "Epoch 10/50\n",
      " - 0s - loss: 51.8224 - mse: 51.8225 - val_loss: 56.3711 - val_mse: 56.3711\n",
      "Epoch 11/50\n",
      " - 0s - loss: 52.3962 - mse: 52.3962 - val_loss: 59.0319 - val_mse: 59.0319\n",
      "Epoch 12/50\n",
      " - 0s - loss: 50.6841 - mse: 50.6841 - val_loss: 63.9399 - val_mse: 63.9399\n",
      "Epoch 13/50\n",
      " - 0s - loss: 48.9066 - mse: 48.9066 - val_loss: 49.3951 - val_mse: 49.3951\n",
      "Epoch 14/50\n",
      " - 0s - loss: 47.0474 - mse: 47.0474 - val_loss: 52.6354 - val_mse: 52.6354\n",
      "Epoch 15/50\n",
      " - 0s - loss: 41.4125 - mse: 41.4125 - val_loss: 46.1078 - val_mse: 46.1078\n",
      "Epoch 16/50\n",
      " - 0s - loss: 39.6866 - mse: 39.6866 - val_loss: 61.9275 - val_mse: 61.9275\n",
      "Epoch 17/50\n",
      " - 0s - loss: 40.8717 - mse: 40.8717 - val_loss: 74.9651 - val_mse: 74.9651\n",
      "Epoch 18/50\n",
      " - 0s - loss: 43.0312 - mse: 43.0312 - val_loss: 46.3778 - val_mse: 46.3778\n",
      "Epoch 19/50\n",
      " - 0s - loss: 41.4060 - mse: 41.4060 - val_loss: 48.4635 - val_mse: 48.4635\n",
      "Epoch 20/50\n",
      " - 0s - loss: 40.9068 - mse: 40.9068 - val_loss: 46.3726 - val_mse: 46.3726\n",
      "Epoch 21/50\n",
      " - 0s - loss: 39.0247 - mse: 39.0247 - val_loss: 58.6921 - val_mse: 58.6921\n",
      "Epoch 22/50\n",
      " - 0s - loss: 42.3469 - mse: 42.3469 - val_loss: 46.7698 - val_mse: 46.7698\n",
      "Epoch 23/50\n",
      " - 0s - loss: 35.0316 - mse: 35.0316 - val_loss: 40.1501 - val_mse: 40.1501\n",
      "Epoch 24/50\n",
      " - 0s - loss: 36.4217 - mse: 36.4217 - val_loss: 38.5734 - val_mse: 38.5734\n",
      "Epoch 25/50\n",
      " - 0s - loss: 39.1037 - mse: 39.1037 - val_loss: 38.7363 - val_mse: 38.7363\n",
      "Epoch 26/50\n",
      " - 0s - loss: 39.1384 - mse: 39.1384 - val_loss: 46.7811 - val_mse: 46.7811\n",
      "Epoch 27/50\n",
      " - 0s - loss: 30.3157 - mse: 30.3157 - val_loss: 47.7083 - val_mse: 47.7083\n",
      "Epoch 28/50\n",
      " - 0s - loss: 33.3538 - mse: 33.3538 - val_loss: 33.2111 - val_mse: 33.2111\n",
      "Epoch 29/50\n",
      " - 0s - loss: 25.2397 - mse: 25.2397 - val_loss: 33.1547 - val_mse: 33.1547\n",
      "Epoch 30/50\n",
      " - 0s - loss: 28.4523 - mse: 28.4523 - val_loss: 49.8884 - val_mse: 49.8884\n",
      "Epoch 31/50\n",
      " - 0s - loss: 34.7852 - mse: 34.7852 - val_loss: 35.7579 - val_mse: 35.7579\n",
      "Epoch 32/50\n",
      " - 0s - loss: 29.0712 - mse: 29.0712 - val_loss: 41.4152 - val_mse: 41.4152\n",
      "Epoch 33/50\n",
      " - 0s - loss: 29.3795 - mse: 29.3795 - val_loss: 47.9439 - val_mse: 47.9439\n",
      "Epoch 34/50\n",
      " - 0s - loss: 28.5825 - mse: 28.5825 - val_loss: 32.0769 - val_mse: 32.0769\n",
      "Epoch 35/50\n",
      " - 0s - loss: 23.8191 - mse: 23.8191 - val_loss: 39.1505 - val_mse: 39.1505\n",
      "Epoch 36/50\n",
      " - 0s - loss: 28.2629 - mse: 28.2629 - val_loss: 39.5485 - val_mse: 39.5485\n",
      "Epoch 37/50\n",
      " - 0s - loss: 23.6921 - mse: 23.6921 - val_loss: 36.1594 - val_mse: 36.1594\n",
      "Epoch 38/50\n",
      " - 0s - loss: 21.6154 - mse: 21.6154 - val_loss: 33.4906 - val_mse: 33.4906\n",
      "Epoch 39/50\n",
      " - 0s - loss: 20.8745 - mse: 20.8745 - val_loss: 55.0808 - val_mse: 55.0808\n",
      "Epoch 40/50\n",
      " - 0s - loss: 21.9179 - mse: 21.9179 - val_loss: 39.3280 - val_mse: 39.3280\n",
      "Epoch 41/50\n",
      " - 0s - loss: 33.8042 - mse: 33.8042 - val_loss: 42.1672 - val_mse: 42.1672\n",
      "Epoch 42/50\n",
      " - 0s - loss: 38.0617 - mse: 38.0617 - val_loss: 44.2351 - val_mse: 44.2351\n",
      "Epoch 43/50\n",
      " - 0s - loss: 25.0783 - mse: 25.0783 - val_loss: 32.7909 - val_mse: 32.7909\n",
      "Epoch 44/50\n",
      " - 0s - loss: 22.4183 - mse: 22.4183 - val_loss: 40.2528 - val_mse: 40.2528\n",
      "Epoch 45/50\n",
      " - 0s - loss: 26.9600 - mse: 26.9600 - val_loss: 32.4105 - val_mse: 32.4105\n",
      "Epoch 46/50\n",
      " - 0s - loss: 20.4534 - mse: 20.4534 - val_loss: 41.1094 - val_mse: 41.1094\n",
      "Epoch 47/50\n",
      " - 0s - loss: 24.3071 - mse: 24.3071 - val_loss: 34.5545 - val_mse: 34.5545\n",
      "Epoch 48/50\n",
      " - 0s - loss: 24.0947 - mse: 24.0947 - val_loss: 36.5602 - val_mse: 36.5602\n",
      "Epoch 49/50\n",
      " - 0s - loss: 17.8491 - mse: 17.8491 - val_loss: 34.2738 - val_mse: 34.2738\n",
      "Epoch 50/50\n",
      " - 0s - loss: 18.2963 - mse: 18.2963 - val_loss: 56.0089 - val_mse: 56.0089\n"
     ]
    },
    {
     "data": {
      "text/plain": [
       "<keras.callbacks.callbacks.History at 0x1ac4a9dbb08>"
      ]
     },
     "execution_count": 9,
     "metadata": {},
     "output_type": "execute_result"
    }
   ],
   "source": [
    "model.fit(x_train,y_train,batch_size=32,epochs=50,verbose=2,validation_data=(x_test,y_test))"
   ]
  },
  {
   "cell_type": "code",
   "execution_count": null,
   "metadata": {},
   "outputs": [],
   "source": []
  },
  {
   "cell_type": "code",
   "execution_count": 11,
   "metadata": {},
   "outputs": [
    {
     "data": {
      "text/plain": [
       "array([12.080358, 21.336096, 22.661686, 38.49195 , 24.690716, 21.848482,\n",
       "       30.788338, 23.562536, 19.261894, 27.129627, 16.160477, 19.79669 ,\n",
       "       20.430746, 36.751015, 27.498325, 22.372429, 23.014347, 22.955181,\n",
       "       25.110489, 36.782898, 15.136941, 12.566928, 20.404121, 19.431252,\n",
       "       24.405361, 31.927574, 28.796892, 44.231796, 13.85468 , 23.436117,\n",
       "       23.762304, 15.379462, 32.545723, 21.87868 , 20.033863, 12.77333 ,\n",
       "       17.533596, 14.942234, 30.732315, 29.524889, 27.963001, 23.691568,\n",
       "       21.856174, 30.363913, 40.28196 , 23.455542, 31.882414, 20.498075,\n",
       "       38.65015 , 22.331806, 41.091614, 20.6512  , 15.336181, 18.988894,\n",
       "       36.14714 , 27.216099, 17.302956, 33.367264, 34.771652, 25.59252 ,\n",
       "       32.863457, 24.341402, 20.039785, 21.687813, 25.19476 , 25.643124,\n",
       "       24.047094, 25.883923, 17.880066, 13.899959, 35.38359 , 26.610786,\n",
       "       33.02278 , 20.739155, 23.905056, 21.47948 , 23.114937, 21.820087,\n",
       "       36.15664 , 13.041224, 21.1389  , 40.43824 , 19.562698, 21.209488,\n",
       "       21.565386, 19.899755, 28.808071, 20.43441 , 21.29321 , 43.540115,\n",
       "       19.033905, 25.496155, 22.001896, 28.338993, 36.709618, 23.105192,\n",
       "       41.305187, 54.571205, 25.977772, 52.775703, 31.551018, 21.156445],\n",
       "      dtype=float32)"
      ]
     },
     "execution_count": 11,
     "metadata": {},
     "output_type": "execute_result"
    }
   ],
   "source": [
    "y_pred = model.predict(x_test).flatten()"
   ]
  },
  {
   "cell_type": "code",
   "execution_count": null,
   "metadata": {},
   "outputs": [],
   "source": []
  },
  {
   "cell_type": "code",
   "execution_count": 13,
   "metadata": {},
   "outputs": [
    {
     "data": {
      "text/plain": [
       "56.00892163587858"
      ]
     },
     "execution_count": 13,
     "metadata": {},
     "output_type": "execute_result"
    }
   ],
   "source": [
    "np.sum((y_test - y_pred)**2)/y_test.shape[0]"
   ]
  },
  {
   "cell_type": "code",
   "execution_count": null,
   "metadata": {},
   "outputs": [],
   "source": []
  },
  {
   "cell_type": "code",
   "execution_count": 14,
   "metadata": {},
   "outputs": [
    {
     "data": {
      "image/png": "[encoded data removed]",
      "text/plain": [
       "<Figure size 432x288 with 1 Axes>"
      ]
     },
     "metadata": {
      "needs_background": "light"
     },
     "output_type": "display_data"
    }
   ],
   "source": [
    "plt.scatter(y_test,y_pred)\n",
    "plt.show()"
   ]
  },
  {
   "cell_type": "code",
   "execution_count": null,
   "metadata": {},
   "outputs": [],
   "source": []
  },
  {
   "cell_type": "code",
   "execution_count": 16,
   "metadata": {},
   "outputs": [
    {
     "data": {
      "image/png": "[encoded data removed]",
      "text/plain": [
       "<Figure size 432x288 with 1 Axes>"
      ]
     },
     "metadata": {
      "needs_background": "light"
     },
     "output_type": "display_data"
    }
   ],
   "source": [
    "plt.hist(abs(y_test - y_pred))\n",
    "plt.show()"
   ]
  },
  {
   "cell_type": "code",
   "execution_count": null,
   "metadata": {},
   "outputs": [],
   "source": []
  },
  {
   "cell_type": "code",
   "execution_count": null,
   "metadata": {},
   "outputs": [],
   "source": []
  },
  {
   "cell_type": "code",
   "execution_count": null,
   "metadata": {},
   "outputs": [],
   "source": []
  },
  {
   "cell_type": "code",
   "execution_count": null,
   "metadata": {},
   "outputs": [],
   "source": []
  },
  {
   "cell_type": "code",
   "execution_count": null,
   "metadata": {},
   "outputs": [],
   "source": []
  },
  {
   "cell_type": "code",
   "execution_count": null,
   "metadata": {},
   "outputs": [],
   "source": []
  },
  {
   "cell_type": "code",
   "execution_count": null,
   "metadata": {},
   "outputs": [],
   "source": []
  },
  {
   "cell_type": "code",
   "execution_count": null,
   "metadata": {},
   "outputs": [],
   "source": []
  },
  {
   "cell_type": "code",
   "execution_count": null,
   "metadata": {},
   "outputs": [],
   "source": []
  },
  {
   "cell_type": "code",
   "execution_count": null,
   "metadata": {},
   "outputs": [],
   "source": []
  },
  {
   "cell_type": "code",
   "execution_count": null,
   "metadata": {},
   "outputs": [],
   "source": []
  },
  {
   "cell_type": "code",
   "execution_count": null,
   "metadata": {},
   "outputs": [],
   "source": []
  },
  {
   "cell_type": "code",
   "execution_count": null,
   "metadata": {},
   "outputs": [],
   "source": []
  },
  {
   "cell_type": "code",
   "execution_count": null,
   "metadata": {},
   "outputs": [],
   "source": []
  },
  {
   "cell_type": "code",
   "execution_count": null,
   "metadata": {},
   "outputs": [],
   "source": []
  },
  {
   "cell_type": "code",
   "execution_count": null,
   "metadata": {},
   "outputs": [],
   "source": []
  },
  {
   "cell_type": "code",
   "execution_count": null,
   "metadata": {},
   "outputs": [],
   "source": []
  },
  {
   "cell_type": "code",
   "execution_count": null,
   "metadata": {},
   "outputs": [],
   "source": []
  }
 ],
 "metadata": {
  "kernelspec": {
   "display_name": "Python 3",
   "language": "python",
   "name": "python3"
  },
  "language_info": {
   "codemirror_mode": {
    "name": "ipython",
    "version": 3
   },
   "file_extension": ".py",
   "mimetype": "text/x-python",
   "name": "python",
   "nbconvert_exporter": "python",
   "pygments_lexer": "ipython3",
   "version": "3.7.6"
  }
 },
 "nbformat": 4,
 "nbformat_minor": 4
}
